{
  "nbformat": 4,
  "nbformat_minor": 0,
  "metadata": {
    "colab": {
      "provenance": [],
      "authorship_tag": "ABX9TyNTJIB7bjU56FcLZyAIPiUo",
      "include_colab_link": true
    },
    "kernelspec": {
      "name": "python3",
      "display_name": "Python 3"
    },
    "language_info": {
      "name": "python"
    }
  },
  "cells": [
    {
      "cell_type": "markdown",
      "metadata": {
        "id": "view-in-github",
        "colab_type": "text"
      },
      "source": [
        "<a href=\"https://colab.research.google.com/github/RsJose7/Taller4-Prog-Alg/blob/main/Untitled2.ipynb\" target=\"_parent\"><img src=\"https://colab.research.google.com/assets/colab-badge.svg\" alt=\"Open In Colab\"/></a>"
      ]
    },
    {
      "cell_type": "markdown",
      "source": [
        "### ALGORITMO PARA CALCULAR EL PROMEDIO PONDERADO\n",
        "\n",
        "1. Iniciar\n",
        "2. Inicializar las variables pesoTotal y calificacionTotal en igual 0\n",
        "3. Declarar las variables nota, peso de la nota y promedio\n",
        "4. Repetir mientras el usuario desee ingresa las notas y peso, (keepCalculate = True)\n",
        "  - Obtener nota\n",
        "  - Obtener peso de la nota en decimales\n",
        "  - Realizar el calculo de (nota * peso) y sumar al calificacionTotal\n",
        "  - Sumar peso a pesoTotal\n",
        "  - Preguntar al usuario si desea agregar otra nota, de lo contrario dejar de repeter, (keepCalculate = False)\n",
        "5. Realizar calculo de promedio (calficacionTotal / pesoTotal)\n",
        "6. Mostrar , pesoTotal y promedio\n",
        "7. Finalizar\n",
        "\n",
        "```\n",
        "PSEUDOCODIGO\n",
        "Program CalculoPromedioPonderado\n",
        "Start\n",
        "  // Declarar variables e inicializarlas\n",
        "  Declare float nota\n",
        "  Declare float pesoNota\n",
        "  Declare float promedio\n",
        "  Constant float pesoTotal = 0\n",
        "  Constant float calificacionTotal = 0\n",
        "  Declare String userChoice\n",
        "  Declare Bool keepCalculate = True\n",
        "  \n",
        "  While keepCalculate Then\n",
        "  Display \"Ingrese su nota: \"\n",
        "  Input nota\n",
        "  Display \"Ingrese el peso de su nota: \"\n",
        "  Input pesoNota\n",
        "\n",
        "  // Sumar la nota y el peso en los totales\n",
        "  Set calificacionTotal += nota * pesoNota\n",
        "  Set pesoTotal += pesoNota\n",
        "\n",
        "  // Preguntar si desea ingresar otra nota\n",
        "  Display \"¿Desea ingresar otro producto? (s/n): \"\n",
        "  Input userChoice\n",
        "  If userChoice == \"n\" Then\n",
        "    keepCalculate = False\n",
        "  End While\n",
        "\n",
        "  // Calcular promedio\n",
        "  Set promedio = calificacionTotal / pesoTotal\n",
        "\n",
        "  // Mostrar peso total y promedio\n",
        "  Display \"El peso total es de: \", pesoTotal\n",
        "  Display \"El promedio ponderado es de: \", promedio\n",
        "\n",
        "End\n",
        "\n",
        "\n",
        "\n",
        "\n",
        "\n",
        "\n",
        "\n",
        "```"
      ],
      "metadata": {
        "id": "vlMqa4rvPoUd"
      }
    },
    {
      "cell_type": "code",
      "execution_count": null,
      "metadata": {
        "colab": {
          "base_uri": "https://localhost:8080/"
        },
        "id": "QvX0ACmWOXhv",
        "outputId": "d7013244-8286-412d-dd86-ba1b555c6864"
      },
      "outputs": [
        {
          "output_type": "stream",
          "name": "stdout",
          "text": [
            "Ingrese su nota: 3.8\n",
            "Ingrese el peso de su nota: 0.4\n",
            "\n",
            "¿Desea ingresar otro producto? (s/n): s\n",
            "Ingrese su nota: 4.2\n",
            "Ingrese el peso de su nota: 0.35\n",
            "\n",
            "¿Desea ingresar otro producto? (s/n): s\n",
            "Ingrese su nota: 4\n",
            "Ingrese el peso de su nota: 0.5\n",
            "\n",
            "¿Desea ingresar otro producto? (s/n): n\n",
            "El peso total es de:  1.25\n",
            "El promedio ponderado es de:  3.992\n"
          ]
        }
      ],
      "source": [
        "# Inicailizar variables\n",
        "calificacionTotal = 0\n",
        "pesoTotal = 0\n",
        "keepCalculate = True\n",
        "\n",
        "while keepCalculate:\n",
        "  # Pedir nota y su peso\n",
        "  nota = float(input(\"Ingrese su nota: \"))\n",
        "  pesoNota = float(input(\"Ingrese el peso de su nota: \"))\n",
        "  # Realizar calculo y sumar al total\n",
        "  calificacionTotal += nota * pesoNota\n",
        "  pesoTotal += pesoNota\n",
        "  # Preguntar si desea agregar otra nota\n",
        "  userChoice = input(\"\\n¿Desea ingresar otro producto? (s/n): \")\n",
        "  if userChoice == \"n\":\n",
        "    keepCalculate = False\n",
        "\n",
        "# Calcular promedio\n",
        "promedio = calificacionTotal / pesoTotal\n",
        "# Mostrar peso total y promedio\n",
        "print(\"\\nEl peso total es de: \", pesoTotal)\n",
        "print(\"El promedio ponderado es de: \", promedio)"
      ]
    }
  ]
}